{
 "cells": [
  {
   "cell_type": "markdown",
   "metadata": {},
   "source": [
    "# String Operations Lab\n",
    "\n",
    "**Before your start:**\n",
    "\n",
    "- Read the README.md file\n",
    "- Comment as much as you can and use the resources in the README.md file\n",
    "- Happy learning!"
   ]
  },
  {
   "cell_type": "code",
   "execution_count": 14,
   "metadata": {},
   "outputs": [],
   "source": [
    "import re"
   ]
  },
  {
   "cell_type": "markdown",
   "metadata": {},
   "source": [
    "# Challenge 1 - Combining Strings\n",
    "\n",
    "Combining strings is an important skill to acquire. There are multiple ways of combining strings in Python, as well as combining strings with variables. We will explore this in the first challenge. In the cell below, combine the strings in the list and add spaces between the strings (do not add a space after the last string). Insert a period after the last string."
   ]
  },
  {
   "cell_type": "code",
   "execution_count": 15,
   "metadata": {},
   "outputs": [
    {
     "data": {
      "text/plain": [
       "'Durante un tiempo no estuvo segura de si su marido era su marido.'"
      ]
     },
     "execution_count": 15,
     "metadata": {},
     "output_type": "execute_result"
    }
   ],
   "source": [
    "str_list = ['Durante', 'un', 'tiempo', 'no', 'estuvo', 'segura', 'de', 'si', 'su', 'marido', 'era', 'su', 'marido']\n",
    "# Your code here:\n",
    "\" \".join(str_list)+'.'"
   ]
  },
  {
   "cell_type": "markdown",
   "metadata": {},
   "source": [
    "In the cell below, use the list of strings to create a grocery list. Start the list with the string `Grocery list: ` and include a comma and a space between each item except for the last one. Include a period at the end. Only include foods in the list that start with the letter 'b' and ensure all foods are lower case."
   ]
  },
  {
   "cell_type": "code",
   "execution_count": 16,
   "metadata": {},
   "outputs": [],
   "source": [
    "food_list = ['Bananas', 'Chocolate', 'bread', 'diapers', 'Ice Cream', 'Brownie Mix', 'broccoli']\n",
    "# Your code here:\n",
    "\n",
    "check = \"b\"\n",
    "food_list_b_only = [i for i in food_list if i[0].lower() == check.lower()] \n",
    "\n",
    "grocery_list_lower = [x.lower() for x in food_list]\n",
    "\n",
    "grocery_list = \"Grocery list: \" + \", \".join(grocery_list_lower) + \".\"\n"
   ]
  },
  {
   "cell_type": "code",
   "execution_count": 17,
   "metadata": {},
   "outputs": [
    {
     "name": "stdout",
     "output_type": "stream",
     "text": [
      "Grocery list: bananas, chocolate, bread, diapers, ice cream, brownie mix, broccoli.\n"
     ]
    }
   ],
   "source": [
    "print(grocery_list)"
   ]
  },
  {
   "cell_type": "code",
   "execution_count": 18,
   "metadata": {},
   "outputs": [],
   "source": [
    "import math\n",
    "\n",
    "string1 = \"The area of the circle with radius:\"\n",
    "string2  = \"is:\"\n",
    "radius = 4.5\n",
    "\n",
    "def area(x, pi = math.pi):\n",
    "    # This function takes a radius and returns the area of a circle. We also pass a default value for pi.\n",
    "    # Input: Float (and default value for pi)\n",
    "    # Output: Float\n",
    "    \n",
    "    # Sample input: 5.0\n",
    "    # Sample Output: 78.53981633\n",
    "    \n",
    "    # Your code here:\n",
    "    return pi * (x**2)\n",
    "    \n",
    "# Your output string here:\n"
   ]
  },
  {
   "cell_type": "markdown",
   "metadata": {},
   "source": [
    "# Challenge 2 - Splitting Strings\n",
    "\n",
    "We have first looked at combining strings into one long string. There are times where we need to do the opposite and split the string into smaller components for further analysis. \n",
    "\n",
    "In the cell below, split the string into a list of strings using the space delimiter. Count the frequency of each word in the string in a dictionary. Strip the periods, line breaks and commas from the text. Make sure to remove empty strings from your dictionary."
   ]
  },
  {
   "cell_type": "code",
   "execution_count": 19,
   "metadata": {},
   "outputs": [
    {
     "name": "stdout",
     "output_type": "stream",
     "text": [
      "{'Some': 1}\n",
      "{'Some': 1, 'say': 1}\n",
      "{'Some': 1, 'say': 1, 'the': 1}\n",
      "{'Some': 1, 'say': 1, 'the': 1, 'world': 1}\n",
      "{'Some': 1, 'say': 1, 'the': 1, 'world': 1, 'will': 1}\n",
      "{'Some': 1, 'say': 1, 'the': 1, 'world': 1, 'will': 1, 'end': 1}\n",
      "{'Some': 1, 'say': 1, 'the': 1, 'world': 1, 'will': 1, 'end': 1, 'in': 1}\n",
      "{'Some': 1, 'say': 1, 'the': 1, 'world': 1, 'will': 1, 'end': 1, 'in': 1, 'fire': 1}\n",
      "{'Some': 1, 'say': 1, 'the': 1, 'world': 1, 'will': 1, 'end': 1, 'in': 1, 'fire': 1, 'ice': 1}\n",
      "{'Some': 1, 'say': 1, 'the': 1, 'world': 1, 'will': 1, 'end': 1, 'in': 1, 'fire': 1, 'ice': 1, 'From': 1}\n",
      "{'Some': 1, 'say': 1, 'the': 1, 'world': 1, 'will': 1, 'end': 1, 'in': 1, 'fire': 1, 'ice': 1, 'From': 1, 'what': 1}\n",
      "{'Some': 1, 'say': 1, 'the': 1, 'world': 1, 'will': 1, 'end': 1, 'in': 1, 'fire': 1, 'ice': 1, 'From': 1, 'what': 1, 'I’ve': 1}\n",
      "{'Some': 1, 'say': 1, 'the': 1, 'world': 1, 'will': 1, 'end': 1, 'in': 1, 'fire': 1, 'ice': 1, 'From': 1, 'what': 1, 'I’ve': 1, 'tasted': 1}\n",
      "{'Some': 1, 'say': 1, 'the': 1, 'world': 1, 'will': 1, 'end': 1, 'in': 1, 'fire': 1, 'ice': 1, 'From': 1, 'what': 1, 'I’ve': 1, 'tasted': 1, 'of': 1}\n",
      "{'Some': 1, 'say': 1, 'the': 1, 'world': 1, 'will': 1, 'end': 1, 'in': 1, 'fire': 1, 'ice': 1, 'From': 1, 'what': 1, 'I’ve': 1, 'tasted': 1, 'of': 1, 'desire': 1}\n",
      "{'Some': 1, 'say': 1, 'the': 1, 'world': 1, 'will': 1, 'end': 1, 'in': 1, 'fire': 1, 'ice': 1, 'From': 1, 'what': 1, 'I’ve': 1, 'tasted': 1, 'of': 1, 'desire': 1, 'I': 1}\n",
      "{'Some': 1, 'say': 1, 'the': 1, 'world': 1, 'will': 1, 'end': 1, 'in': 1, 'fire': 1, 'ice': 1, 'From': 1, 'what': 1, 'I’ve': 1, 'tasted': 1, 'of': 1, 'desire': 1, 'I': 1, 'hold': 1}\n",
      "{'Some': 1, 'say': 1, 'the': 1, 'world': 1, 'will': 1, 'end': 1, 'in': 1, 'fire': 1, 'ice': 1, 'From': 1, 'what': 1, 'I’ve': 1, 'tasted': 1, 'of': 1, 'desire': 1, 'I': 1, 'hold': 1, 'with': 1}\n",
      "{'Some': 1, 'say': 1, 'the': 1, 'world': 1, 'will': 1, 'end': 1, 'in': 1, 'fire': 1, 'ice': 1, 'From': 1, 'what': 1, 'I’ve': 1, 'tasted': 1, 'of': 1, 'desire': 1, 'I': 1, 'hold': 1, 'with': 1, 'those': 1}\n",
      "{'Some': 1, 'say': 1, 'the': 1, 'world': 1, 'will': 1, 'end': 1, 'in': 1, 'fire': 1, 'ice': 1, 'From': 1, 'what': 1, 'I’ve': 1, 'tasted': 1, 'of': 1, 'desire': 1, 'I': 1, 'hold': 1, 'with': 1, 'those': 1, 'who': 1}\n",
      "{'Some': 1, 'say': 1, 'the': 1, 'world': 1, 'will': 1, 'end': 1, 'in': 1, 'fire': 1, 'ice': 1, 'From': 1, 'what': 1, 'I’ve': 1, 'tasted': 1, 'of': 1, 'desire': 1, 'I': 1, 'hold': 1, 'with': 1, 'those': 1, 'who': 1, 'favor': 1}\n",
      "{'Some': 1, 'say': 1, 'the': 1, 'world': 1, 'will': 1, 'end': 1, 'in': 1, 'fire': 1, 'ice': 1, 'From': 1, 'what': 1, 'I’ve': 1, 'tasted': 1, 'of': 1, 'desire': 1, 'I': 1, 'hold': 1, 'with': 1, 'those': 1, 'who': 1, 'favor': 1, 'But': 1}\n",
      "{'Some': 1, 'say': 1, 'the': 1, 'world': 1, 'will': 1, 'end': 1, 'in': 1, 'fire': 1, 'ice': 1, 'From': 1, 'what': 1, 'I’ve': 1, 'tasted': 1, 'of': 1, 'desire': 1, 'I': 1, 'hold': 1, 'with': 1, 'those': 1, 'who': 1, 'favor': 1, 'But': 1, 'if': 1}\n",
      "{'Some': 1, 'say': 1, 'the': 1, 'world': 1, 'will': 1, 'end': 1, 'in': 1, 'fire': 1, 'ice': 1, 'From': 1, 'what': 1, 'I’ve': 1, 'tasted': 1, 'of': 1, 'desire': 1, 'I': 1, 'hold': 1, 'with': 1, 'those': 1, 'who': 1, 'favor': 1, 'But': 1, 'if': 1, 'it': 1}\n",
      "{'Some': 1, 'say': 1, 'the': 1, 'world': 1, 'will': 1, 'end': 1, 'in': 1, 'fire': 1, 'ice': 1, 'From': 1, 'what': 1, 'I’ve': 1, 'tasted': 1, 'of': 1, 'desire': 1, 'I': 1, 'hold': 1, 'with': 1, 'those': 1, 'who': 1, 'favor': 1, 'But': 1, 'if': 1, 'it': 1, 'had': 1}\n",
      "{'Some': 1, 'say': 1, 'the': 1, 'world': 1, 'will': 1, 'end': 1, 'in': 1, 'fire': 1, 'ice': 1, 'From': 1, 'what': 1, 'I’ve': 1, 'tasted': 1, 'of': 1, 'desire': 1, 'I': 1, 'hold': 1, 'with': 1, 'those': 1, 'who': 1, 'favor': 1, 'But': 1, 'if': 1, 'it': 1, 'had': 1, 'to': 1}\n",
      "{'Some': 1, 'say': 1, 'the': 1, 'world': 1, 'will': 1, 'end': 1, 'in': 1, 'fire': 1, 'ice': 1, 'From': 1, 'what': 1, 'I’ve': 1, 'tasted': 1, 'of': 1, 'desire': 1, 'I': 1, 'hold': 1, 'with': 1, 'those': 1, 'who': 1, 'favor': 1, 'But': 1, 'if': 1, 'it': 1, 'had': 1, 'to': 1, 'perish': 1}\n",
      "{'Some': 1, 'say': 1, 'the': 1, 'world': 1, 'will': 1, 'end': 1, 'in': 1, 'fire': 1, 'ice': 1, 'From': 1, 'what': 1, 'I’ve': 1, 'tasted': 1, 'of': 1, 'desire': 1, 'I': 1, 'hold': 1, 'with': 1, 'those': 1, 'who': 1, 'favor': 1, 'But': 1, 'if': 1, 'it': 1, 'had': 1, 'to': 1, 'perish': 1, 'twice': 1}\n",
      "{'Some': 1, 'say': 1, 'the': 1, 'world': 1, 'will': 1, 'end': 1, 'in': 1, 'fire': 1, 'ice': 1, 'From': 1, 'what': 1, 'I’ve': 1, 'tasted': 1, 'of': 1, 'desire': 1, 'I': 1, 'hold': 1, 'with': 1, 'those': 1, 'who': 1, 'favor': 1, 'But': 1, 'if': 1, 'it': 1, 'had': 1, 'to': 1, 'perish': 1, 'twice': 1, 'think': 1}\n",
      "{'Some': 1, 'say': 1, 'the': 1, 'world': 1, 'will': 1, 'end': 1, 'in': 1, 'fire': 1, 'ice': 1, 'From': 1, 'what': 1, 'I’ve': 1, 'tasted': 1, 'of': 1, 'desire': 1, 'I': 1, 'hold': 1, 'with': 1, 'those': 1, 'who': 1, 'favor': 1, 'But': 1, 'if': 1, 'it': 1, 'had': 1, 'to': 1, 'perish': 1, 'twice': 1, 'think': 1, 'know': 1}\n",
      "{'Some': 1, 'say': 1, 'the': 1, 'world': 1, 'will': 1, 'end': 1, 'in': 1, 'fire': 1, 'ice': 1, 'From': 1, 'what': 1, 'I’ve': 1, 'tasted': 1, 'of': 1, 'desire': 1, 'I': 1, 'hold': 1, 'with': 1, 'those': 1, 'who': 1, 'favor': 1, 'But': 1, 'if': 1, 'it': 1, 'had': 1, 'to': 1, 'perish': 1, 'twice': 1, 'think': 1, 'know': 1, 'enough': 1}\n",
      "{'Some': 1, 'say': 1, 'the': 1, 'world': 1, 'will': 1, 'end': 1, 'in': 1, 'fire': 1, 'ice': 1, 'From': 1, 'what': 1, 'I’ve': 1, 'tasted': 1, 'of': 1, 'desire': 1, 'I': 1, 'hold': 1, 'with': 1, 'those': 1, 'who': 1, 'favor': 1, 'But': 1, 'if': 1, 'it': 1, 'had': 1, 'to': 1, 'perish': 1, 'twice': 1, 'think': 1, 'know': 1, 'enough': 1, 'hate': 1}\n",
      "{'Some': 1, 'say': 1, 'the': 1, 'world': 1, 'will': 1, 'end': 1, 'in': 1, 'fire': 1, 'ice': 1, 'From': 1, 'what': 1, 'I’ve': 1, 'tasted': 1, 'of': 1, 'desire': 1, 'I': 1, 'hold': 1, 'with': 1, 'those': 1, 'who': 1, 'favor': 1, 'But': 1, 'if': 1, 'it': 1, 'had': 1, 'to': 1, 'perish': 1, 'twice': 1, 'think': 1, 'know': 1, 'enough': 1, 'hate': 1, 'To': 1}\n",
      "{'Some': 1, 'say': 1, 'the': 1, 'world': 1, 'will': 1, 'end': 1, 'in': 1, 'fire': 1, 'ice': 1, 'From': 1, 'what': 1, 'I’ve': 1, 'tasted': 1, 'of': 1, 'desire': 1, 'I': 1, 'hold': 1, 'with': 1, 'those': 1, 'who': 1, 'favor': 1, 'But': 1, 'if': 1, 'it': 1, 'had': 1, 'to': 1, 'perish': 1, 'twice': 1, 'think': 1, 'know': 1, 'enough': 1, 'hate': 1, 'To': 1, 'that': 1}\n",
      "{'Some': 1, 'say': 1, 'the': 1, 'world': 1, 'will': 1, 'end': 1, 'in': 1, 'fire': 1, 'ice': 1, 'From': 1, 'what': 1, 'I’ve': 1, 'tasted': 1, 'of': 1, 'desire': 1, 'I': 1, 'hold': 1, 'with': 1, 'those': 1, 'who': 1, 'favor': 1, 'But': 1, 'if': 1, 'it': 1, 'had': 1, 'to': 1, 'perish': 1, 'twice': 1, 'think': 1, 'know': 1, 'enough': 1, 'hate': 1, 'To': 1, 'that': 1, 'for': 1}\n",
      "{'Some': 1, 'say': 1, 'the': 1, 'world': 1, 'will': 1, 'end': 1, 'in': 1, 'fire': 1, 'ice': 1, 'From': 1, 'what': 1, 'I’ve': 1, 'tasted': 1, 'of': 1, 'desire': 1, 'I': 1, 'hold': 1, 'with': 1, 'those': 1, 'who': 1, 'favor': 1, 'But': 1, 'if': 1, 'it': 1, 'had': 1, 'to': 1, 'perish': 1, 'twice': 1, 'think': 1, 'know': 1, 'enough': 1, 'hate': 1, 'To': 1, 'that': 1, 'for': 1, 'destruction': 1}\n",
      "{'Some': 1, 'say': 1, 'the': 1, 'world': 1, 'will': 1, 'end': 1, 'in': 1, 'fire': 1, 'ice': 1, 'From': 1, 'what': 1, 'I’ve': 1, 'tasted': 1, 'of': 1, 'desire': 1, 'I': 1, 'hold': 1, 'with': 1, 'those': 1, 'who': 1, 'favor': 1, 'But': 1, 'if': 1, 'it': 1, 'had': 1, 'to': 1, 'perish': 1, 'twice': 1, 'think': 1, 'know': 1, 'enough': 1, 'hate': 1, 'To': 1, 'that': 1, 'for': 1, 'destruction': 1, 'Is': 1}\n",
      "{'Some': 1, 'say': 1, 'the': 1, 'world': 1, 'will': 1, 'end': 1, 'in': 1, 'fire': 1, 'ice': 1, 'From': 1, 'what': 1, 'I’ve': 1, 'tasted': 1, 'of': 1, 'desire': 1, 'I': 1, 'hold': 1, 'with': 1, 'those': 1, 'who': 1, 'favor': 1, 'But': 1, 'if': 1, 'it': 1, 'had': 1, 'to': 1, 'perish': 1, 'twice': 1, 'think': 1, 'know': 1, 'enough': 1, 'hate': 1, 'To': 1, 'that': 1, 'for': 1, 'destruction': 1, 'Is': 1, 'also': 1}\n",
      "{'Some': 1, 'say': 1, 'the': 1, 'world': 1, 'will': 1, 'end': 1, 'in': 1, 'fire': 1, 'ice': 1, 'From': 1, 'what': 1, 'I’ve': 1, 'tasted': 1, 'of': 1, 'desire': 1, 'I': 1, 'hold': 1, 'with': 1, 'those': 1, 'who': 1, 'favor': 1, 'But': 1, 'if': 1, 'it': 1, 'had': 1, 'to': 1, 'perish': 1, 'twice': 1, 'think': 1, 'know': 1, 'enough': 1, 'hate': 1, 'To': 1, 'that': 1, 'for': 1, 'destruction': 1, 'Is': 1, 'also': 1, 'great': 1}\n",
      "{'Some': 1, 'say': 1, 'the': 1, 'world': 1, 'will': 1, 'end': 1, 'in': 1, 'fire': 1, 'ice': 1, 'From': 1, 'what': 1, 'I’ve': 1, 'tasted': 1, 'of': 1, 'desire': 1, 'I': 1, 'hold': 1, 'with': 1, 'those': 1, 'who': 1, 'favor': 1, 'But': 1, 'if': 1, 'it': 1, 'had': 1, 'to': 1, 'perish': 1, 'twice': 1, 'think': 1, 'know': 1, 'enough': 1, 'hate': 1, 'To': 1, 'that': 1, 'for': 1, 'destruction': 1, 'Is': 1, 'also': 1, 'great': 1, 'And': 1}\n",
      "{'Some': 1, 'say': 1, 'the': 1, 'world': 1, 'will': 1, 'end': 1, 'in': 1, 'fire': 1, 'ice': 1, 'From': 1, 'what': 1, 'I’ve': 1, 'tasted': 1, 'of': 1, 'desire': 1, 'I': 1, 'hold': 1, 'with': 1, 'those': 1, 'who': 1, 'favor': 1, 'But': 1, 'if': 1, 'it': 1, 'had': 1, 'to': 1, 'perish': 1, 'twice': 1, 'think': 1, 'know': 1, 'enough': 1, 'hate': 1, 'To': 1, 'that': 1, 'for': 1, 'destruction': 1, 'Is': 1, 'also': 1, 'great': 1, 'And': 1, 'would': 1}\n",
      "{'Some': 1, 'say': 1, 'the': 1, 'world': 1, 'will': 1, 'end': 1, 'in': 1, 'fire': 1, 'ice': 1, 'From': 1, 'what': 1, 'I’ve': 1, 'tasted': 1, 'of': 1, 'desire': 1, 'I': 1, 'hold': 1, 'with': 1, 'those': 1, 'who': 1, 'favor': 1, 'But': 1, 'if': 1, 'it': 1, 'had': 1, 'to': 1, 'perish': 1, 'twice': 1, 'think': 1, 'know': 1, 'enough': 1, 'hate': 1, 'To': 1, 'that': 1, 'for': 1, 'destruction': 1, 'Is': 1, 'also': 1, 'great': 1, 'And': 1, 'would': 1, 'suffice': 1}\n"
     ]
    }
   ],
   "source": [
    "poem = \"\"\"Some say the world will end in fire,\n",
    "Some say in ice.\n",
    "From what I’ve tasted of desire\n",
    "I hold with those who favor fire.\n",
    "But if it had to perish twice,\n",
    "I think I know enough of hate\n",
    "To say that for destruction ice\n",
    "Is also great\n",
    "And would suffice.\"\"\"\n",
    "\n",
    "# Your code here:\n",
    "poem = poem.replace(\",\",\"\")\n",
    "poem = poem.replace(\".\",\"\")\n",
    "poem = poem.replace(\"\\n\",\" \")\n",
    "\n",
    "poem_list = poem.split()\n",
    "\n",
    "d = {}\n",
    "for i in poem_list:\n",
    "    if i not in d.keys():\n",
    "        d[i] = 0\n",
    "        d[i] = d[i] + 1\n",
    "        \n",
    "        print(d)"
   ]
  },
  {
   "cell_type": "markdown",
   "metadata": {},
   "source": [
    "In the cell below, find all the words that appear in the text and do not appear in the blacklist. You must parse the string but can choose any data structure you wish for the words that do not appear in the blacklist. Remove all non letter characters and convert all words to lower case."
   ]
  },
  {
   "cell_type": "code",
   "execution_count": 20,
   "metadata": {},
   "outputs": [
    {
     "data": {
      "text/plain": [
       "['i',\n",
       " 'was',\n",
       " 'angry',\n",
       " 'with',\n",
       " 'my',\n",
       " 'friend',\n",
       " 'i',\n",
       " 'told',\n",
       " 'my',\n",
       " 'wrath',\n",
       " 'my',\n",
       " 'wrath',\n",
       " 'did',\n",
       " 'endi',\n",
       " 'was',\n",
       " 'angry',\n",
       " 'with',\n",
       " 'my',\n",
       " 'foe',\n",
       " 'i',\n",
       " 'told',\n",
       " 'not',\n",
       " 'my',\n",
       " 'wrath',\n",
       " 'did',\n",
       " 'grow',\n",
       " 'i',\n",
       " 'waterd',\n",
       " 'fearsnight',\n",
       " 'morning',\n",
       " 'with',\n",
       " 'my',\n",
       " 'tears',\n",
       " 'i',\n",
       " 'sunned',\n",
       " 'with',\n",
       " 'smilesand',\n",
       " 'with',\n",
       " 'soft',\n",
       " 'deceitful',\n",
       " 'wiles',\n",
       " 'grew',\n",
       " 'both',\n",
       " 'day',\n",
       " 'night',\n",
       " 'till',\n",
       " 'bore',\n",
       " 'apple',\n",
       " 'bright',\n",
       " 'my',\n",
       " 'foe',\n",
       " 'beheld',\n",
       " 'shineand',\n",
       " 'he',\n",
       " 'knew',\n",
       " 'that',\n",
       " 'was',\n",
       " 'mine',\n",
       " 'into',\n",
       " 'my',\n",
       " 'garden',\n",
       " 'stole',\n",
       " 'when',\n",
       " 'night',\n",
       " 'had',\n",
       " 'veild',\n",
       " 'pole',\n",
       " 'morning',\n",
       " 'glad',\n",
       " 'i',\n",
       " 'see',\n",
       " 'my',\n",
       " 'foe',\n",
       " 'outstretched',\n",
       " 'beneath',\n",
       " 'tree']"
      ]
     },
     "execution_count": 20,
     "metadata": {},
     "output_type": "execute_result"
    }
   ],
   "source": [
    "blacklist = ['and', 'as', 'an', 'a', 'the', 'in', 'it']\n",
    "\n",
    "poem = \"\"\"I was angry with my friend; \n",
    "I told my wrath, my wrath did end.\n",
    "I was angry with my foe: \n",
    "I told it not, my wrath did grow. \n",
    "\n",
    "And I waterd it in fears,\n",
    "Night & morning with my tears: \n",
    "And I sunned it with smiles,\n",
    "And with soft deceitful wiles. \n",
    "\n",
    "And it grew both day and night. \n",
    "Till it bore an apple bright. \n",
    "And my foe beheld it shine,\n",
    "And he knew that it was mine. \n",
    "\n",
    "And into my garden stole, \n",
    "When the night had veild the pole; \n",
    "In the morning glad I see; \n",
    "My foe outstretched beneath the tree.\"\"\"\n",
    "\n",
    "# Your code here:\n",
    "characters_to_remove = [';',':',\".\",'\\n','&',',']\n",
    "\n",
    "for i in characters_to_remove:\n",
    "    poem = poem.replace(i,\"\")\n",
    "    poem = poem.lower()\n",
    "\n",
    "poem_split = poem.split()\n",
    "\n",
    "not_in_blacklist = [item for item in poem_split if item not in blacklist]\n",
    "\n",
    "not_in_blacklist"
   ]
  },
  {
   "cell_type": "markdown",
   "metadata": {},
   "source": [
    "# Challenge 3 - Regular Expressions\n",
    "\n",
    "Sometimes, we would like to perform more complex manipulations of our string. This is where regular expressions come in handy. In the cell below, return all characters that are upper case from the string specified below."
   ]
  },
  {
   "cell_type": "code",
   "execution_count": 21,
   "metadata": {},
   "outputs": [
    {
     "data": {
      "text/plain": [
       "'TP'"
      ]
     },
     "execution_count": 21,
     "metadata": {},
     "output_type": "execute_result"
    }
   ],
   "source": [
    "import re\n",
    "\n",
    "poem = \"\"\"The apparition of these faces in the crowd;\n",
    "Petals on a wet, black bough.\"\"\"\n",
    "\n",
    "# Your code here:\n",
    "''.join([i for i in poem if i.isupper()])"
   ]
  },
  {
   "cell_type": "markdown",
   "metadata": {},
   "source": [
    "In the cell below, filter the list provided and return all elements of the list containing a number. To filter the list, use the `re.search` function. Check if the function does not return `None`. You can read more about the `re.search` function [here](https://docs.python.org/3/library/re.html)."
   ]
  },
  {
   "cell_type": "code",
   "execution_count": 39,
   "metadata": {},
   "outputs": [
    {
     "name": "stdout",
     "output_type": "stream",
     "text": [
      "123abc\n",
      "abc123\n",
      "JohnSmith1\n",
      "ABBY4\n"
     ]
    }
   ],
   "source": [
    "data = ['123abc', 'abc123', 'JohnSmith1', 'ABBY4', 'JANE']\n",
    "# Your code here:\n",
    "for i in data:\n",
    "    if re.search('\\d', i): \n",
    "        print(i)"
   ]
  },
  {
   "cell_type": "markdown",
   "metadata": {},
   "source": [
    "# Bonus Challenge - Regular Expressions II\n",
    "\n",
    "In the cell below, filter the list provided to keep only strings containing at least one digit and at least one lower case letter. As in the previous question, use the `re.search` function and check that the result is not `None`.\n",
    "\n",
    "To read more about regular expressions, check out [this link](https://developers.google.com/edu/python/regular-expressions)."
   ]
  },
  {
   "cell_type": "code",
   "execution_count": null,
   "metadata": {},
   "outputs": [],
   "source": [
    "data = ['123abc', 'abc123', 'JohnSmith1', 'ABBY4', 'JANE']\n",
    "# Your code here:\n"
   ]
  }
 ],
 "metadata": {
  "kernelspec": {
   "display_name": "Python 3",
   "language": "python",
   "name": "python3"
  },
  "language_info": {
   "codemirror_mode": {
    "name": "ipython",
    "version": 3
   },
   "file_extension": ".py",
   "mimetype": "text/x-python",
   "name": "python",
   "nbconvert_exporter": "python",
   "pygments_lexer": "ipython3",
   "version": "3.8.3"
  }
 },
 "nbformat": 4,
 "nbformat_minor": 2
}
